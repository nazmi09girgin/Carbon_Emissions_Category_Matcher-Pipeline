{
 "cells": [
  {
   "cell_type": "code",
   "execution_count": null,
   "metadata": {
    "id": "KMPMqNDggOM4"
   },
   "outputs": [],
   "source": [
    "# =============================================================================\n",
    "# NAICS Eşleştirme Pipeline (Embedding + Cosine Similarity + LLM Hakemliği)\n",
    "# -----------------------------------------------------------------------------\n",
    "# Bu betik, muhasebe/fatura verilerini NAICS sınıfları ile eşleştirmek üzere\n",
    "# üç aşamalı bir yaklaşım uygular:\n",
    "#   1) Veri hazırlama ve metin temizliği\n",
    "#   2) Çok dilli cümle gömme (Sentence-Transformers) + cosine similarity ile\n",
    "#      aday sınıfların oluşturulması (Top-K)\n",
    "#   3) LLM ile nihai seçim (hakemlik) ve açıklama üretimi\n",
    "#\n",
    "# Açıklama:\n",
    "# - Embedding: Serbest metinleri (tedarikçi adı + ürün açıklamaları) anlamsal\n",
    "#   uzayda sayısal vektörlere çevirir. Farklı diller/kısaltmalar/biçimler\n",
    "#   arasındaki anlamsal benzerlikleri yakalamak için idealdir.\n",
    "# - Cosine Similarity: İki vektörün yön benzerliğini ölçer [–1, +1]. 1’e\n",
    "#   yakın skorlar yüksek anlamsal örtüşme demektir. Eşik (THRESHOLD) ile\n",
    "#   \"yeterince benzer\" adayları işaretleriz.\n",
    "# - LLM Hakemliği: Benzer adaylar arasında bağlama (ürün kalemlerinin özü,\n",
    "#   jenerik ücretler vs.) dikkat ederek tek bir NAICS seçer ve kısa bir\n",
    "#   gerekçe üretir. Embedding’in kaçırabileceği iş bağlamı sinyallerini\n",
    "#   toparlar."
   ]
  },
  {
   "cell_type": "code",
   "execution_count": null,
   "metadata": {
    "colab": {
     "base_uri": "https://localhost:8080/"
    },
    "collapsed": true,
    "executionInfo": {
     "elapsed": 10386,
     "status": "ok",
     "timestamp": 1757077539164,
     "user": {
      "displayName": "Nazmi Girgin",
      "userId": "13489073875447566135"
     },
     "user_tz": -180
    },
    "id": "IOnArha6EhwE",
    "outputId": "98babccf-5618-40b9-c071-496504f2b37e"
   },
   "outputs": [
    {
     "name": "stdout",
     "output_type": "stream",
     "text": [
      "\u001b[2K   \u001b[90m━━━━━━━━━━━━━━━━━━━━━━━━━━━━━━━━━━━━━━━━\u001b[0m \u001b[32m61.3/61.3 MB\u001b[0m \u001b[31m37.1 MB/s\u001b[0m eta \u001b[36m0:00:00\u001b[0m\n",
      "\u001b[?25h"
     ]
    }
   ],
   "source": [
    "!pip install -q sentence-transformers scikit-learn pandas openpyxl transformers torch accelerate bitsandbytes"
   ]
  },
  {
   "cell_type": "code",
   "execution_count": null,
   "metadata": {
    "id": "UQIShcDPEwpH"
   },
   "outputs": [],
   "source": [
    "# =========================\n",
    "# 1) KÜTÜPHANELER\n",
    "# =========================\n",
    "\n",
    "import os\n",
    "import re\n",
    "import json\n",
    "import warnings\n",
    "import numpy as np\n",
    "import pandas as pd\n",
    "from tqdm import tqdm\n",
    "import torch\n",
    "from sentence_transformers import SentenceTransformer, util\n",
    "from transformers import AutoTokenizer, AutoModelForCausalLM, BitsAndBytesConfig, pipeline\n",
    "\n",
    "warnings.filterwarnings(\"ignore\", category=FutureWarning)"
   ]
  },
  {
   "cell_type": "code",
   "execution_count": null,
   "metadata": {
    "colab": {
     "base_uri": "https://localhost:8080/"
    },
    "collapsed": true,
    "executionInfo": {
     "elapsed": 513,
     "status": "ok",
     "timestamp": 1754985176805,
     "user": {
      "displayName": "Nazmi Girgin",
      "userId": "13489073875447566135"
     },
     "user_tz": -180
    },
    "id": "vZ3zafDfEbG-",
    "outputId": "d6d3e880-9483-4677-e194-0eb575aaca7f"
   },
   "outputs": [
    {
     "name": "stdout",
     "output_type": "stream",
     "text": [
      "'/content/yeni_girdi_muhasebe.xlsx' okunuyor...\n",
      "Veri fatura bazında gruplanıyor...\n",
      "Gruplama tamamlandı.\n",
      "Tedarikçi ve Ürünler sütunları en gelişmiş fonksiyon ile temizleniyor...\n",
      "\n",
      "İşlem Tamamlandı! Sonucun ilk 5 satırı:\n",
      "                   Tedarikçi_Orjinal                                                                                      Urunler_Orjinal                                                                                  Urunler_Temiz                                                                                                                   Model_Girdisi\n",
      "0  Turkcell Iletisim Hizmetleri A.S.  Tarife ve Paket Ücretleri, Diğer Ücretler, Gecikme Bedeli, Tahsilatına Aracılık Edilen Ödemeleriniz  tarife paket ucretleri,diger ucretler,gecikme bedeli,tahsilatina aracilik edilen odemeleriniz  turkcell iletisim hizmetleri, tarife paket ucretleri, diger ucretler, gecikme bedeli, tahsilatina aracilik edilen odemeleriniz\n",
      "1  Turkcell Iletisim Hizmetleri A.S.  Tarife ve Paket Ücretleri, Diğer Ücretler, Gecikme Bedeli, Tahsilatına Aracılık Edilen Ödemeleriniz  tarife paket ucretleri,diger ucretler,gecikme bedeli,tahsilatina aracilik edilen odemeleriniz  turkcell iletisim hizmetleri, tarife paket ucretleri, diger ucretler, gecikme bedeli, tahsilatina aracilik edilen odemeleriniz\n",
      "2  Turkcell Iletisim Hizmetleri A.S.  Tarife ve Paket Ücretleri, Diğer Ücretler, Gecikme Bedeli, Tahsilatına Aracılık Edilen Ödemeleriniz  tarife paket ucretleri,diger ucretler,gecikme bedeli,tahsilatina aracilik edilen odemeleriniz  turkcell iletisim hizmetleri, tarife paket ucretleri, diger ucretler, gecikme bedeli, tahsilatina aracilik edilen odemeleriniz\n",
      "3  Turkcell Iletisim Hizmetleri A.S.  Tarife ve Paket Ücretleri, Diğer Ücretler, Gecikme Bedeli, Tahsilatına Aracılık Edilen Ödemeleriniz  tarife paket ucretleri,diger ucretler,gecikme bedeli,tahsilatina aracilik edilen odemeleriniz  turkcell iletisim hizmetleri, tarife paket ucretleri, diger ucretler, gecikme bedeli, tahsilatina aracilik edilen odemeleriniz\n",
      "4  Turkcell Iletisim Hizmetleri A.S.  Tarife ve Paket Ücretleri, Diğer Ücretler, Gecikme Bedeli, Tahsilatına Aracılık Edilen Ödemeleriniz  tarife paket ucretleri,diger ucretler,gecikme bedeli,tahsilatina aracilik edilen odemeleriniz  turkcell iletisim hizmetleri, tarife paket ucretleri, diger ucretler, gecikme bedeli, tahsilatina aracilik edilen odemeleriniz\n",
      "\n",
      "Veri başarıyla temizlendi ve 'Temizlenmis_v2.xlsx' adıyla kaydedildi.\n"
     ]
    }
   ],
   "source": [
    "# ============================\n",
    "# 2) MUHASEBE VERİSİ HAZIRLAMA\n",
    "# ============================\n",
    "# Excel dosyasını okuyup, fatura bazlı (Fiş/Fatura No + Tedarikçi) gruplama yapar ve ürün/hizmet kalemlerini aynı satırda virgülle birleştirir.\n",
    "def gruplu_veri_olustur(dosya_yolu):\n",
    "    print(f\"'{dosya_yolu}' okunuyor...\")\n",
    "    df = pd.read_excel(dosya_yolu)\n",
    "    df['Fiş/Fatura No'] = df['Fiş/Fatura No'].ffill()\n",
    "    df['Tedarikçi / Çalışan'] = df['Tedarikçi / Çalışan'].ffill()\n",
    "    print(\"Veri fatura bazında gruplanıyor...\")\n",
    "    df_grouped = df.groupby(['Fiş/Fatura No', 'Tedarikçi / Çalışan'])['Ürün/hizmet'] \\\n",
    "                   .apply(lambda x: ', '.join(x.dropna().astype(str))) \\\n",
    "                   .reset_index()\n",
    "    df_grouped.columns = ['Fatura_No', 'Tedarikçi_Orjinal', 'Urunler_Orjinal']\n",
    "    print(\"Gruplama tamamlandı.\")\n",
    "    return df_grouped\n",
    "\n",
    "#TEMİZLEME FONKSİYONU\n",
    "def clean_text_ultimate_pro(text): # Tedarikçi ve ürün/hizmet metinlerini normalleştirir ve gürültüyü temizler.\n",
    "    text = str(text)\n",
    "    text = text.replace('İ', 'i').lower()\n",
    "\n",
    "    text = re.sub(r'\\ba\\.(s|ş)\\b', '', text, flags=re.IGNORECASE) #aş as gibi ikili kısaltma için\n",
    "\n",
    "    # 1. Noktaları boşlukla değiştir\n",
    "    text = text.replace('.', ' ')\n",
    "\n",
    "    # 2. Fazla boşlukları temizle\n",
    "    text = re.sub(r'\\s+', ' ', text)\n",
    "\n",
    "    # 3. Türkçe karakterleri sadeleştir\n",
    "    turkish_chars = {'ç': 'c', 'ğ': 'g', 'ı': 'i', 'ö': 'o', 'ş': 's', 'ü': 'u'}\n",
    "    for tr, en in turkish_chars.items():\n",
    "        text = text.replace(tr, en)\n",
    "\n",
    "    # 4. Yaygın kısaltmaları kaldır\n",
    "    abbreviations = [\n",
    "        'as', 'ltd', 'sti', 'tic', 'tur', 'tas', 'mal', 'ins', 'amb', 've', 'san', 'limited', 'sirketi','anonim', 'sirket'\n",
    "    ]\n",
    "    pattern_abbr = r'\\b(' + '|'.join(abbreviations) + r')\\b'\n",
    "    text = re.sub(pattern_abbr, '', text, flags=re.IGNORECASE)\n",
    "\n",
    "    # 5. Ölçü birimlerini sil\n",
    "    units = ['kg', 'ml', 'lt','l', 'gr', 'cl', 'mm', 'cm', 'x']\n",
    "    pattern_unit = r'\\d+\\s*(' + '|'.join(units) + r')\\b'\n",
    "    text = re.sub(pattern_unit, '', text)\n",
    "\n",
    "    # 6. Sayı, özel karakter ve son temizlik\n",
    "    text = re.sub(r'\\d+', '', text)\n",
    "    text = re.sub(r'[^,\\w\\s]', ' ', text)\n",
    "    text = re.sub(r'\\s+', ' ', text).strip()\n",
    "    text = re.sub(r'\\s*,\\s*', ',', text)\n",
    "    text = re.sub(r',,+', ',', text).strip(',')\n",
    "\n",
    "    return text\n",
    "\n",
    "\n",
    "# --- ANA İŞ AKIŞI ---\n",
    "try:\n",
    "    dosya_yolu = \"/content/yeni_girdi_muhasebe.xlsx\"\n",
    "    df_final = gruplu_veri_olustur(dosya_yolu)\n",
    "\n",
    "    print(\"Tedarikçi ve Ürünler sütunları en gelişmiş fonksiyon ile temizleniyor...\")\n",
    "    df_final['Tedarikçi_Temiz'] = df_final['Tedarikçi_Orjinal'].apply(clean_text_ultimate_pro)\n",
    "    df_final['Urunler_Temiz'] = df_final['Urunler_Orjinal'].apply(clean_text_ultimate_pro)\n",
    "\n",
    "    df_final['Model_Girdisi'] = df_final['Tedarikçi_Temiz'] + ', ' + df_final['Urunler_Temiz']\n",
    "    df_final['Model_Girdisi'] = df_final['Model_Girdisi'].apply(lambda x: ', '.join(dict.fromkeys([i.strip() for i in re.sub(r',,+', ',', x).strip(',').split(',')])))\n",
    "\n",
    "    print(\"\\nİşlem Tamamlandı! Sonucun ilk 5 satırı:\")\n",
    "\n",
    "    display_cols = ['Tedarikçi_Orjinal', 'Urunler_Orjinal', 'Urunler_Temiz', 'Model_Girdisi']\n",
    "    print(df_final[display_cols].head().to_string())\n",
    "\n",
    "    output_filename = \"Temizlenmis_v2.xlsx\"\n",
    "    df_final.to_excel(output_filename, index=False)\n",
    "\n",
    "    print(f\"\\nVeri başarıyla temizlendi ve '{output_filename}' adıyla kaydedildi.\")\n",
    "\n",
    "except FileNotFoundError:\n",
    "    print(f\"\\n!!! HATA: '{dosya_yolu}' dosyası bulunamadı.\")\n",
    "    print(\"Lütfen sol taraftaki 'Dosyalar' bölümüne dosyayı yüklediğinizden emin olun.\")"
   ]
  },
  {
   "cell_type": "code",
   "execution_count": null,
   "metadata": {
    "colab": {
     "base_uri": "https://localhost:8080/"
    },
    "collapsed": true,
    "executionInfo": {
     "elapsed": 1692,
     "status": "ok",
     "timestamp": 1754985182484,
     "user": {
      "displayName": "Nazmi Girgin",
      "userId": "13489073875447566135"
     },
     "user_tz": -180
    },
    "id": "z2FDsNc5Eeuf",
    "outputId": "3e6ad251-f214-42a6-cdfc-8da49f0b2315"
   },
   "outputs": [
    {
     "name": "stdout",
     "output_type": "stream",
     "text": [
      "NAICS Codes & Descriptions.xlsx başarıyla yüklendi.\n",
      "NAICS kodları gruplanıyor ve açıklamalar birleştiriliyor...\n",
      "Birleştirilmiş NAICS açıklamaları temizleniyor...\n",
      "\n",
      "Gruplanmış ve Temizlenmiş NAICS Verisi Örneği:\n",
      "   NAICS Codes                                                                                                                                                                                                        Cleaned_Description\n",
      "0       111110                                                                                                                                                                                 soybean farming, field and seed production\n",
      "1       111120  oilseed except soybean farming, canola farming, field and seed production, flaxseed farming, mustard seed farming, oilseed farming except soybean, rapeseed farming, safflower farming, sesame farming, sunflower farming\n",
      "2       111130                                                                   dry pea and bean farming, bean farming, dry, field and seed production, cowpea farming, garbanzo farming, lentil farming, lima bean farming, pea farming\n",
      "3       111140                                                                                                                                                                                   wheat farming, field and seed production\n",
      "4       111150                                                                                                                                   corn farming, corn farming except sweet corn, field and seed production, popcorn farming\n",
      "\n",
      "NAICS verisi başarıyla hazırlandı ve '2_Adim_Hazir_NAICS_Verisi.xlsx' adıyla kaydedildi.\n"
     ]
    }
   ],
   "source": [
    "# ============================\n",
    "# 3) NAICS VERİSİ HAZIRLAMA\n",
    "# ============================\n",
    "\n",
    "# NAICS metinlerini temizlemek için fonksiyon\n",
    "def clean_text_for_naics(text):\n",
    "    text = str(text).lower()\n",
    "    text = re.sub(r'\\d+', '', text)\n",
    "    text = re.sub(r'[^,\\w\\s]', ' ', text)\n",
    "    text = re.sub(r'\\s+', ' ', text).strip()\n",
    "    text = re.sub(r'\\s*,\\s*', ',', text)\n",
    "    text = re.sub(r',,+', ',', text).strip(',')\n",
    "    return text\n",
    "\n",
    "def remove_duplicate_phrases(text):\n",
    "    parts = [p.strip() for p in text.split(',')]\n",
    "    unique = list(dict.fromkeys(parts))  # Sıralı ve tekrarsız\n",
    "    return ', '.join(unique)\n",
    "\n",
    "try:\n",
    "    # NAICS dosyasını oku\n",
    "    naics_df = pd.read_excel(\"NAICS Codes & Descriptions.xlsx\")\n",
    "    print(\"NAICS Codes & Descriptions.xlsx başarıyla yüklendi.\")\n",
    "\n",
    "    # Boş satır olmadığından emin olmak için temel bir 'dropna' yeterli\n",
    "    naics_df = naics_df.dropna(subset=['NAICS Codes', '2017 NAICS Titles (USA)', 'Index Item Descriptions'])\n",
    "\n",
    "    # NAICS koduna göre grupla ve tüm açıklamaları birleştir\n",
    "    print(\"NAICS kodları gruplanıyor ve açıklamalar birleştiriliyor...\")\n",
    "    naics_grouped = naics_df.groupby('NAICS Codes').agg(\n",
    "        NAICS_Title=('2017 NAICS Titles (USA)', 'first'),\n",
    "        NAICS_Item_Descriptions=('Index Item Descriptions', lambda x: ', '.join(x.astype(str)))\n",
    "    ).reset_index()\n",
    "\n",
    "    # Modele verilecek nihai birleşik açıklamayı oluştur\n",
    "    naics_grouped['Combined_Description'] = naics_grouped['NAICS_Title'] + ', ' + naics_grouped['NAICS_Item_Descriptions']\n",
    "\n",
    "    # Bu birleşik açıklamayı temizle\n",
    "    print(\"Birleştirilmiş NAICS açıklamaları temizleniyor...\")\n",
    "    naics_grouped['Cleaned_Description'] = naics_grouped['Combined_Description'].apply(clean_text_for_naics)\n",
    "    naics_grouped['Cleaned_Description'] = naics_grouped['Cleaned_Description'].apply(remove_duplicate_phrases)\n",
    "\n",
    "    print(\"\\nGruplanmış ve Temizlenmiş NAICS Verisi Örneği:\")\n",
    "    print(naics_grouped[['NAICS Codes', 'Cleaned_Description']].head().to_string())\n",
    "\n",
    "    output_filename = \"2_Adim_Hazir_NAICS_Verisi.xlsx\"\n",
    "    naics_grouped.to_excel(output_filename, index=False)\n",
    "\n",
    "    print(f\"\\nNAICS verisi başarıyla hazırlandı ve '{output_filename}' adıyla kaydedildi.\")\n",
    "\n",
    "except FileNotFoundError:\n",
    "    print(\"\\n!!! HATA: 'NAICS Codes & Descriptions.xlsx' dosyası bulunamadı.\")"
   ]
  },
  {
   "cell_type": "code",
   "execution_count": null,
   "metadata": {
    "colab": {
     "base_uri": "https://localhost:8080/",
     "height": 1000,
     "referenced_widgets": [
      "eb7292fcd4cc4cf392aec28d5cc8b331",
      "892b840e40024aaaaeb372d3d36edca9",
      "fb39089d45894a99bee8215f322616f3",
      "4f77627420af4fe1950588ddf26e7b4b",
      "288fdcc77ce341d7821f8b05e6410696",
      "ec23d1f11d1141d8946b35cfcaa351f3",
      "6705fecd9b434a01aebf4bbede3cad14",
      "7c7904d307a24fa9a0c84fb867ce5baf",
      "a9af232786c246fcbfc0908740da7c43",
      "d230fe0b62a142b59f404345c27e160f",
      "438b6685462b49689561e4abcd222730",
      "32002ca4c5664caf9abd3cdb995cd0b4",
      "06fb399f217041d391dd966e32a2d7e5",
      "d751f14b01dd4175801bbbe53e82c068",
      "30dd913b699d477ea6a899ecb3e2e7af",
      "fc602a2d961c44b988001413889fc3fa",
      "aa0d736431c544199cfabe8365b88647",
      "ee35b7eeb5e54a85bcfaacb14c35710a",
      "7ce6d9056c7f4633a0b3c7213bfc60df",
      "1606d05ee6d34382a76f1ec44160e49c",
      "6718d062e4704fc9afd626c0267bf917",
      "6fc14e5443cb44bcad43defa52ef3dbb",
      "bcbbe3118e164d09a7b22e238c3666d2",
      "ded75781ea4743559243a60528cdb1de",
      "3b814676907f48f1ab81c39ccf6421b1",
      "aedc50ef408143049ade97ce2930c827",
      "c37d9c90c999494d85a03947e023e3ce",
      "b6ffe9828e1849f488e58f428b2b1825",
      "a5a9549a0cdf4fffbec34e5dcc0b589c",
      "bb0889bd45d94015948b1724cc281b90",
      "cd87a77c253c4f6ab7ca0e89ce5c017b",
      "0e89b3d05df642fb90e58a4734b18e60",
      "c5839a5dd2a7499e8afed7dd2097c494",
      "79d4ab46ef714c98a581a2d57c44245e",
      "08dc813e0aaf4b4897c7eb594212a29e",
      "c55e332c394b4df998a4068eeb3078ce",
      "fb5cea3e4a264e799fa613870d06b30f",
      "173e3f7c38bb45b3adc8664a95105cbc",
      "50ef8eda43d04a5d845321b23d65c2de",
      "9abbb460f06e469983b4c256eaea4389",
      "005844ce29a74b039989c1f98cd7a810",
      "cc006a6226e1449cbffc5e65999bc52a",
      "a3b86a02c34342319bd1b258adf2ee36",
      "dc2083bf99a048d198cdb818fc01131c",
      "e9e1e6de24e54a58a9b57258925f8b0c",
      "1cea7626c5cb405db91f0a6d634878bf",
      "ede4c514fbb9448ebc73d7c8239757e0",
      "8800d5d4078240969215867b99b87b84",
      "51f3a8c365cb4fccaad2ee043b2aff7b",
      "52bbda31121a4ce298bc888eb2e90e61",
      "c729bd7d9d0b4ad6bbe3c7626845f5ae",
      "2147d6f035f146d2ba0efe25dc2d3e2c",
      "c731a9f7f2f943b6a84358e07160832b",
      "9528f481089444d9ae0f7d58e5b12be7",
      "4626d59e13304211b064800a833b7b9c",
      "5a6a881e47034530aae80abfe2cb8dbc",
      "a7f913dee5114bdd927792df4adcccf0",
      "5b68ab75422b4f97b0e0aeaee95da0ef",
      "00c16ded16764806a5a6d51af4ae4b9b",
      "36afb0a95f0e486e83b9dc04c08fb827",
      "c5f795b67ec5476d8e6b79fa26c7ea2d",
      "04dfee1182e44ea1adc92a00db02ef48",
      "f99382895c564293bbe7e1d075755305",
      "ea726bbb006d450fb592ba16d1d46a54",
      "a9ebe314e524429ba90ae3d9e796ac54",
      "f6f5dd25d0c847b9a974006945149cab",
      "10f59d78c13b416082295aeeaf823351",
      "1b491823b80e431fa9d685dfd2de491c",
      "c349d50656704675967c3f345acce99e",
      "93698836bd4640919ee50f623a4d44c4",
      "776d32413f444bbd971e51806d449de1",
      "ae061ad3508749fd8c5fc913ca583cef",
      "3956c6a34ca3479da695a90f24808b37",
      "c028aba4ed004b83941ce7fdfa735426",
      "9de4f4195864454f965efd573ad3e7a7",
      "a973c92d16ec4c9aa7765d27ea2c8323",
      "8610f71a186d49738212f192bccd3a3a",
      "d6475cf491ad48aeabe887d8f5ecf632",
      "bf923d9048f84b7c80747ba2efc6bc7c",
      "d41bf19e6eb04844a474258b531ee686",
      "6240812526a94ba0ab488cbf0eda47d5",
      "a143032a92aa4b7c8cd6796faa1fcd9c",
      "0074c210c2034406bed1a950762bd018",
      "16c5ea29572a44229c5a366c3da6f303",
      "891d741b45bd47e884971700e0493284",
      "71d86fed103942e68ca4571a41d58397",
      "a942bdaf617f410c99392e2f8e8b7631",
      "accc398f2c4a4c7085a13d0e36053bd1",
      "95fdf8b90c8243b5af048105bb538334",
      "800524b2eddb48fcaee0641b251f6aec",
      "122fc6cd73204fbeabffbcf1a35acf3e",
      "51d5cfefc0d9418cb510dccef03b3390",
      "f5979c44d4c04d62aaebff09a9270789",
      "0b80b154b7d84ae789e7a8debf9a3237",
      "1830f49c459a4a5baa98997fd35181a6",
      "8589947aab9c454ab8464f0ca7f6078c",
      "9c5e2ed5b35b4a05a40da5e3d1a178de",
      "07a23ca7e643420b9104e6cfa758ac8a",
      "5f93d828322644a4b898ade2e62d9d34",
      "fdc35e58d1904a44948fb21215cc9d91",
      "2c520f395b124ed293fb2e6b64f466a0",
      "aa8f4c9b36294297adee262f125a0b75",
      "f3144d7487134a0994bac1d3e50a58bf",
      "ad78bad339d84890ae51a9f608d74715",
      "6eb8b7f1e7cd4bc2ba155a446e88d9c9",
      "b399e3dde0ca4755af3860664cc6f607",
      "dc659da1257b47a498bbec91acc846de",
      "7a06516f1097495394021be359b85d02",
      "3081ecffbdee4fdc9904f6f121f4bcc7",
      "20b0bd225181414da12c0805a8fccba2",
      "58ef99a010ea4132bc3818a335237993",
      "1434f7a86e63452b89f6287bbbf1c38b",
      "d38d4ab8beca4819bdce2f6873fd8fe1",
      "b86d3d70f2df4dcda4a14df9386d0d00",
      "2bcd0ec27f444fdd89fc252af422c0da",
      "c69483767f534a4daa52a9e19f886863",
      "2dcc9f0dc013473baa587ab534e2252a",
      "e6b5ca1c45d44d16b42a6fa191d092e2",
      "b29c452610b24c9c8592178933015360",
      "45c8eac78f054329a6133eb8a5258d86",
      "70499136419048bf80d52c44701c1f53",
      "1244a143419545a890ffbb69691fb6a5",
      "75cc9156fe7b446e9b43feac2401272a",
      "ebf8224291e44d7a8f6e6d4a78fc4465",
      "afc3a389885d4ec88594ad53f143ee33",
      "02e9f0439842445199cc4e8cf13c6c41",
      "10b228c4d5ee4b6f95585368ac15c321",
      "651db714799f44b4bb3c937adec92b51",
      "c8a4f83bc7b140c780704c234601e57a",
      "22628f8c4593432cbd2266f0461caee1",
      "c545b07fc49c4124abc28cbebae7ac17",
      "0bf18e00ea3c4550bda5de93d6dac305",
      "b3bda1362e414e60b13bbbbf9051d496",
      "5ca26b3da8bc46e69633ad2e55150252",
      "b4223075f2d44b1abd93c82abf6a1f96",
      "835db17804c84dc3809c635ec2e3fcd6",
      "a318e5ed1d234b78888012e98b515488",
      "b527a4c345c2486f8fda23e98b9ab943",
      "109d90ad4c3f4a8baeeecdc23247097d",
      "12baa923bf8a428cb06e310f49bf2e4d",
      "d41fecbfcc1341fab4cde3b4fa39776f",
      "314bf6e7c19c42a6860c4ec9b5a59114",
      "313d765755a94de58131cd93f37a3396",
      "6b5f5d51c9ea417b8be61d85d6292005",
      "adddf9ac79e340e9b2f62a2aadf16bac",
      "07fa2e2d62244321b25af4d13583a920",
      "5df3c1b7e4a7498c9f35d89b17451e8a",
      "56e25543c9d04bdf9c04402ddb050167",
      "706c35a0c42d4d1dbc3fb34b561ff5bc",
      "b7ef4a941ee443f7a704dfe0a51bc794",
      "ce5571e79e3e46f8bd0a922a394da0ee",
      "5e3179859c9e45e08b1aa268ae0dc41e",
      "01665778f0404bfb9ff4478ab7b95983",
      "43e4a7103c1f40d5a982046ee4ff526f",
      "3c0c21fb66444c5f8c14e5818d5003a5",
      "daf9c334f8054558a249ad5dfc5aad32",
      "aea49770d2b84bf68a78c69c322ec207",
      "1929336838414eddad9e1b8104ae1c7d",
      "84b335581fbf4c08924d4dd4ed9ace18",
      "ead5351dca824cfcb0001eba375112cd",
      "aeb7a58996404eae897383c7889d9056",
      "23b59580529a4468993e3300d9d3ccee",
      "6dbe03765cbf471596ce0327a44d6ea7",
      "43208d0717204480b64637f3d42054ae",
      "fadf625053c746d7aa86bffd4e00b63c",
      "341a29628e654ce29735c8b410ab91e6",
      "18bcd923618c41b8b5003ed981f1f9e9",
      "d566c06ddd32412ca3a98073c487bd50",
      "9024083b16a14666adee45c3458f20e9",
      "5d47924b93f3418f8dc4144608c9241a",
      "efa44e68f3e344b09999cecc063a13ad",
      "0d69de26ea35482b90fb6f0480af9e08",
      "81b23c030b7e4153af972fb387755725",
      "2f8e6657ace443d4bf9f85f85ed77d49",
      "46f867c7b65240dc991adc56e4dbdbe2",
      "4f290650334d4647bc4e210e83f697b8",
      "c8a4598e9eb740a48a5cacffafc37f3a",
      "031583d2aced421ba0c1cb84f603d266",
      "dae1639802214b0098a31554b9f290c4",
      "f27f4578f6b54bebb524fcfd07fba062",
      "de3e006d080e435ca693d65a89e1ecce",
      "cb6e834705074d52abf1deb0ffd3f7df",
      "9617682d7e4947eba2770b55afa27bbf",
      "8fe09432ca8141e1b94fd74e41408fd0",
      "177a9e5b1598498f9a449eff33fc61f4",
      "f5dc03589ec24260a485141ac3632289",
      "afe2f2e02ca34bd3a52c637889255fd3",
      "d74fb551689a4274b7e7ecf36b6f7a2b",
      "871012239b344ffc85aab411d1e1b82e",
      "35e550c497304abb8676e78455954a97",
      "717a7c48c27b4b05ae73131537e516ba",
      "7a4c59ed227b4e1fae8435e100807efe",
      "08cd7fa3e14b4ba3b280b49ec3869602",
      "8b75df6407064ca6b7680d8e4005652f",
      "604634aead6e45319598e1d5d0641209",
      "ad4b59cb297d4b69a408378f388e55c7",
      "a30b8f7415b74ce1af7997f77c30ee8e",
      "cb14139ad4df446ab1531298fafe8511",
      "ee16ad718c8d4af481d0b3bf6b83114c",
      "5ce321e6a06849d798dfc621054bf014",
      "aefdaf7cac194c5baba3cfec5c5a2a93",
      "61eff2f497b6430086c8ebc96393c517",
      "29a351e27dec488199ca865bd776f1f8",
      "c33a7144541344dcb780591ba2aec220",
      "1ce94263d1954fc38578a5193099139c",
      "036f39dfddfe4568946ffac34307e440",
      "8b03a99137164ee299c57a9d4c3c6ef0",
      "3ea351ba39eb45d2a7e43a3a14fc44d6",
      "b63e3c61d18f4c41a360735a8c9c8b3e",
      "416ab5c8cbb74911a8dc3ec95ad041a3",
      "c67cbfe87e2f42cda41a91f53c7fcc56",
      "f294cc67282d47d8ac02cb1b43c37cba",
      "0a9a6abf61a941f5a3c2ef3e3d51b409",
      "d4c3c898501f41cba9b2e879fad56a9a",
      "e7e384cb17ee4cf6af22971d2b66e3e5",
      "60ffc1ca19564b98adb6f21b3dfbc826",
      "3dc6057eface4d45837778a97d923055",
      "092f3aa687724463b4d052af8275b953",
      "49288113616f4c92a57aac4ff721093d",
      "8ba46342417b4fff8bab0ac91699889d",
      "db6a834a35af4fc4a3a00e94ed3d76c6",
      "8b0a2f8b5a34467aaa364b85fad88805",
      "02f090d1250746069045d17c0155029a",
      "064675bb86154b46b63bab70ee466401",
      "68cb7f6be52b4290a886eed36de52a70",
      "5507ec8dd0fe41dba00d2713767e444b",
      "1e2c573e7a0543c189be3ff21246de89",
      "c5ed6533049d4052b652ccd8a56156e0",
      "61bd0ec4b4024cf4bde01c3a34ed6e3a",
      "50ad6d754fa34d06b6eb502e3fc4e56d",
      "0be8356a94ba4fc9937e6db1e65d8e61",
      "4766f6e352734b78b4c0166cc69de069",
      "6ef12a66c045441d92220ee8caa374e7",
      "cd906b20a2444d0ba80663b217846d77",
      "139bfba973af42d9bb38abd7484c804c",
      "98e47fac4ca14aabbc46631d26e25faf",
      "2c08f48ddd8e464fb81ed3425fe1e91e",
      "97f38b464d8147e2bbdf2d35cdf60aae",
      "a6a4295ed9d54dff8626abf5172ca6b2",
      "fbafdfff1b8f4af8bf6f829153a00575",
      "3dd19fc50f7b462b8ee3ad86969dd539",
      "dcb125ebfc1447f9be4b4034ff812e1a",
      "7baf10708c59455fb9164248ac339a46",
      "1e2354b546094126a17e601d6f1881a2",
      "23c16ba8303f477a997620626d79c5be",
      "2eceadc16c654a1fafba731dcbab1d1a",
      "797f6f1f17774550aa953525b9dac034",
      "966aa78a48c94ff7a548593e278995e6",
      "487d3bc03c014e72a679fc98f21255ab",
      "cac8f7add19645d0b389c3050a5ee950",
      "342cce3a6c8a448596e5b140ed8bcb6e",
      "65df70ae38aa436e957543711e18d582",
      "9824961574454343a7e95bc62e911252",
      "9eaf69fd76a2407683e49d72e4e05801",
      "c571bc03a0204cb5bd75203f61a0592b",
      "9196b75fb276449ba214db2452a0845b",
      "2d6190aa69ef40ca92b72f4684044f8e",
      "e766eabaa0404378a4c5ba4e6101cbea",
      "c2e03df9ea2441b2af6102afc97871e1",
      "bb74d8937ab445a88656d10a55268883",
      "96c270fb3d094e91825d3ec1872b09cb",
      "c21e307621624abd85bd49cb71211970",
      "9a3872d86da44eaabcad7fc3f44fe129",
      "ae6ae0ba83fd470bbd6cd1677586c3ab",
      "afc94aed8f0840519ddfaa753a90f096",
      "ede576c128a7451fab7ba2e5ab687639",
      "8c1d23a4e92649a58074d8c44566ec5d",
      "66bd95cf84f545d89a9ec2147813700c",
      "14d371bf636a4f2db21ec1635faee515",
      "d844d6f37f494d91b8f0c9610395ba38",
      "5ff6cd9030a442428ec01235c7fd86f1",
      "b8ba7abb58ff42e9a792336b810f2f40",
      "d4540bf5d43d4421b8e3acecec7eed92",
      "3b54889db7e645eb95930ea22ef6419a",
      "502a1631a7ac46af9b22e5c8b6676f69"
     ]
    },
    "collapsed": true,
    "executionInfo": {
     "elapsed": 967882,
     "status": "ok",
     "timestamp": 1757078555148,
     "user": {
      "displayName": "Nazmi Girgin",
      "userId": "13489073875447566135"
     },
     "user_tz": -180
    },
    "id": "NCkoeUpzCLZ-",
    "outputId": "9e263c2b-55f7-46a6-ca48-a3d2f4c0bbb0"
   },
   "outputs": [
    {
     "name": "stdout",
     "output_type": "stream",
     "text": [
      "🔍 Embedding modeli yükleniyor...\n"
     ]
    },
    {
     "name": "stderr",
     "output_type": "stream",
     "text": [
      "/usr/local/lib/python3.12/dist-packages/huggingface_hub/utils/_auth.py:94: UserWarning: \n",
      "The secret `HF_TOKEN` does not exist in your Colab secrets.\n",
      "To authenticate with the Hugging Face Hub, create a token in your settings tab (https://huggingface.co/settings/tokens), set it as secret in your Google Colab and restart your session.\n",
      "You will be able to reuse this secret in all of your notebooks.\n",
      "Please note that authentication is recommended but still optional to access public models or datasets.\n",
      "  warnings.warn(\n"
     ]
    },
    {
     "data": {
      "application/vnd.jupyter.widget-view+json": {
       "model_id": "eb7292fcd4cc4cf392aec28d5cc8b331",
       "version_major": 2,
       "version_minor": 0
      },
      "text/plain": [
       "modules.json:   0%|          | 0.00/229 [00:00<?, ?B/s]"
      ]
     },
     "metadata": {},
     "output_type": "display_data"
    },
    {
     "data": {
      "application/vnd.jupyter.widget-view+json": {
       "model_id": "32002ca4c5664caf9abd3cdb995cd0b4",
       "version_major": 2,
       "version_minor": 0
      },
      "text/plain": [
       "config_sentence_transformers.json:   0%|          | 0.00/122 [00:00<?, ?B/s]"
      ]
     },
     "metadata": {},
     "output_type": "display_data"
    },
    {
     "data": {
      "application/vnd.jupyter.widget-view+json": {
       "model_id": "bcbbe3118e164d09a7b22e238c3666d2",
       "version_major": 2,
       "version_minor": 0
      },
      "text/plain": [
       "README.md: 0.00B [00:00, ?B/s]"
      ]
     },
     "metadata": {},
     "output_type": "display_data"
    },
    {
     "data": {
      "application/vnd.jupyter.widget-view+json": {
       "model_id": "79d4ab46ef714c98a581a2d57c44245e",
       "version_major": 2,
       "version_minor": 0
      },
      "text/plain": [
       "sentence_bert_config.json:   0%|          | 0.00/53.0 [00:00<?, ?B/s]"
      ]
     },
     "metadata": {},
     "output_type": "display_data"
    },
    {
     "data": {
      "application/vnd.jupyter.widget-view+json": {
       "model_id": "e9e1e6de24e54a58a9b57258925f8b0c",
       "version_major": 2,
       "version_minor": 0
      },
      "text/plain": [
       "config.json:   0%|          | 0.00/723 [00:00<?, ?B/s]"
      ]
     },
     "metadata": {},
     "output_type": "display_data"
    },
    {
     "data": {
      "application/vnd.jupyter.widget-view+json": {
       "model_id": "5a6a881e47034530aae80abfe2cb8dbc",
       "version_major": 2,
       "version_minor": 0
      },
      "text/plain": [
       "model.safetensors:   0%|          | 0.00/1.11G [00:00<?, ?B/s]"
      ]
     },
     "metadata": {},
     "output_type": "display_data"
    },
    {
     "data": {
      "application/vnd.jupyter.widget-view+json": {
       "model_id": "10f59d78c13b416082295aeeaf823351",
       "version_major": 2,
       "version_minor": 0
      },
      "text/plain": [
       "tokenizer_config.json:   0%|          | 0.00/402 [00:00<?, ?B/s]"
      ]
     },
     "metadata": {},
     "output_type": "display_data"
    },
    {
     "data": {
      "application/vnd.jupyter.widget-view+json": {
       "model_id": "d6475cf491ad48aeabe887d8f5ecf632",
       "version_major": 2,
       "version_minor": 0
      },
      "text/plain": [
       "sentencepiece.bpe.model:   0%|          | 0.00/5.07M [00:00<?, ?B/s]"
      ]
     },
     "metadata": {},
     "output_type": "display_data"
    },
    {
     "data": {
      "application/vnd.jupyter.widget-view+json": {
       "model_id": "95fdf8b90c8243b5af048105bb538334",
       "version_major": 2,
       "version_minor": 0
      },
      "text/plain": [
       "tokenizer.json: 0.00B [00:00, ?B/s]"
      ]
     },
     "metadata": {},
     "output_type": "display_data"
    },
    {
     "data": {
      "application/vnd.jupyter.widget-view+json": {
       "model_id": "fdc35e58d1904a44948fb21215cc9d91",
       "version_major": 2,
       "version_minor": 0
      },
      "text/plain": [
       "special_tokens_map.json:   0%|          | 0.00/239 [00:00<?, ?B/s]"
      ]
     },
     "metadata": {},
     "output_type": "display_data"
    },
    {
     "data": {
      "application/vnd.jupyter.widget-view+json": {
       "model_id": "58ef99a010ea4132bc3818a335237993",
       "version_major": 2,
       "version_minor": 0
      },
      "text/plain": [
       "config.json:   0%|          | 0.00/190 [00:00<?, ?B/s]"
      ]
     },
     "metadata": {},
     "output_type": "display_data"
    },
    {
     "name": "stdout",
     "output_type": "stream",
     "text": [
      "🔍 Embedding vektörleri oluşturuluyor...\n"
     ]
    },
    {
     "data": {
      "application/vnd.jupyter.widget-view+json": {
       "model_id": "1244a143419545a890ffbb69691fb6a5",
       "version_major": 2,
       "version_minor": 0
      },
      "text/plain": [
       "Batches:   0%|          | 0/3 [00:00<?, ?it/s]"
      ]
     },
     "metadata": {},
     "output_type": "display_data"
    },
    {
     "data": {
      "application/vnd.jupyter.widget-view+json": {
       "model_id": "b3bda1362e414e60b13bbbbf9051d496",
       "version_major": 2,
       "version_minor": 0
      },
      "text/plain": [
       "Batches:   0%|          | 0/33 [00:00<?, ?it/s]"
      ]
     },
     "metadata": {},
     "output_type": "display_data"
    },
    {
     "name": "stdout",
     "output_type": "stream",
     "text": [
      "🎯 Eşleştirme işlemi başlatıldı...\n"
     ]
    },
    {
     "name": "stderr",
     "output_type": "stream",
     "text": [
      "100%|██████████| 94/94 [00:00<00:00, 885.78it/s]"
     ]
    },
    {
     "name": "stdout",
     "output_type": "stream",
     "text": [
      "\n",
      "💬 LLM modeli yükleniyor: meta-llama/Llama-3.1-8B-Instruct\n"
     ]
    },
    {
     "name": "stderr",
     "output_type": "stream",
     "text": [
      "\n"
     ]
    },
    {
     "data": {
      "application/vnd.jupyter.widget-view+json": {
       "model_id": "6b5f5d51c9ea417b8be61d85d6292005",
       "version_major": 2,
       "version_minor": 0
      },
      "text/plain": [
       "tokenizer_config.json:   0%|          | 0.00/55.4k [00:00<?, ?B/s]"
      ]
     },
     "metadata": {},
     "output_type": "display_data"
    },
    {
     "data": {
      "application/vnd.jupyter.widget-view+json": {
       "model_id": "3c0c21fb66444c5f8c14e5818d5003a5",
       "version_major": 2,
       "version_minor": 0
      },
      "text/plain": [
       "tokenizer.json:   0%|          | 0.00/9.09M [00:00<?, ?B/s]"
      ]
     },
     "metadata": {},
     "output_type": "display_data"
    },
    {
     "data": {
      "application/vnd.jupyter.widget-view+json": {
       "model_id": "341a29628e654ce29735c8b410ab91e6",
       "version_major": 2,
       "version_minor": 0
      },
      "text/plain": [
       "special_tokens_map.json:   0%|          | 0.00/296 [00:00<?, ?B/s]"
      ]
     },
     "metadata": {},
     "output_type": "display_data"
    },
    {
     "data": {
      "application/vnd.jupyter.widget-view+json": {
       "model_id": "c8a4598e9eb740a48a5cacffafc37f3a",
       "version_major": 2,
       "version_minor": 0
      },
      "text/plain": [
       "config.json:   0%|          | 0.00/855 [00:00<?, ?B/s]"
      ]
     },
     "metadata": {},
     "output_type": "display_data"
    },
    {
     "data": {
      "application/vnd.jupyter.widget-view+json": {
       "model_id": "d74fb551689a4274b7e7ecf36b6f7a2b",
       "version_major": 2,
       "version_minor": 0
      },
      "text/plain": [
       "model.safetensors.index.json:   0%|          | 0.00/23.9k [00:00<?, ?B/s]"
      ]
     },
     "metadata": {},
     "output_type": "display_data"
    },
    {
     "data": {
      "application/vnd.jupyter.widget-view+json": {
       "model_id": "ee16ad718c8d4af481d0b3bf6b83114c",
       "version_major": 2,
       "version_minor": 0
      },
      "text/plain": [
       "Fetching 4 files:   0%|          | 0/4 [00:00<?, ?it/s]"
      ]
     },
     "metadata": {},
     "output_type": "display_data"
    },
    {
     "data": {
      "application/vnd.jupyter.widget-view+json": {
       "model_id": "416ab5c8cbb74911a8dc3ec95ad041a3",
       "version_major": 2,
       "version_minor": 0
      },
      "text/plain": [
       "model-00002-of-00004.safetensors:   0%|          | 0.00/5.00G [00:00<?, ?B/s]"
      ]
     },
     "metadata": {},
     "output_type": "display_data"
    },
    {
     "data": {
      "application/vnd.jupyter.widget-view+json": {
       "model_id": "db6a834a35af4fc4a3a00e94ed3d76c6",
       "version_major": 2,
       "version_minor": 0
      },
      "text/plain": [
       "model-00001-of-00004.safetensors:   0%|          | 0.00/4.98G [00:00<?, ?B/s]"
      ]
     },
     "metadata": {},
     "output_type": "display_data"
    },
    {
     "data": {
      "application/vnd.jupyter.widget-view+json": {
       "model_id": "4766f6e352734b78b4c0166cc69de069",
       "version_major": 2,
       "version_minor": 0
      },
      "text/plain": [
       "model-00003-of-00004.safetensors:   0%|          | 0.00/4.92G [00:00<?, ?B/s]"
      ]
     },
     "metadata": {},
     "output_type": "display_data"
    },
    {
     "data": {
      "application/vnd.jupyter.widget-view+json": {
       "model_id": "7baf10708c59455fb9164248ac339a46",
       "version_major": 2,
       "version_minor": 0
      },
      "text/plain": [
       "model-00004-of-00004.safetensors:   0%|          | 0.00/1.17G [00:00<?, ?B/s]"
      ]
     },
     "metadata": {},
     "output_type": "display_data"
    },
    {
     "data": {
      "application/vnd.jupyter.widget-view+json": {
       "model_id": "9eaf69fd76a2407683e49d72e4e05801",
       "version_major": 2,
       "version_minor": 0
      },
      "text/plain": [
       "Loading checkpoint shards:   0%|          | 0/4 [00:00<?, ?it/s]"
      ]
     },
     "metadata": {},
     "output_type": "display_data"
    },
    {
     "data": {
      "application/vnd.jupyter.widget-view+json": {
       "model_id": "afc94aed8f0840519ddfaa753a90f096",
       "version_major": 2,
       "version_minor": 0
      },
      "text/plain": [
       "generation_config.json:   0%|          | 0.00/184 [00:00<?, ?B/s]"
      ]
     },
     "metadata": {},
     "output_type": "display_data"
    },
    {
     "name": "stderr",
     "output_type": "stream",
     "text": [
      "Device set to use cuda:0\n"
     ]
    },
    {
     "name": "stdout",
     "output_type": "stream",
     "text": [
      "\n",
      "🤖 LLM ile nihai seçimler yapılıyor...\n",
      "\n",
      "✅ Tamamlandı. Sonuçlar '/content/Final_Eslesme_LLM.xlsx' dosyasına kaydedildi.\n"
     ]
    }
   ],
   "source": [
    "# =========================\n",
    "# 4) EŞLEŞTİRME (Embedding + LLM Hakemliği - meta-llama/Llama-3.1-8B-Instruct)\n",
    "# =========================\n",
    "\n",
    "# Parametreler\n",
    "MUHASEBE_PATH = \"/content/Temizlenmis_v2.xlsx\"\n",
    "NAICS_PATH = \"/content/2_Adim_Hazir_NAICS_Verisi.xlsx\"\n",
    "OUT_PATH = \"/content/Yeni_Final_Eslesme_LLM.xlsx\"\n",
    "\n",
    "EMBED_MODEL = \"sentence-transformers/paraphrase-multilingual-mpnet-base-v2\" # çok dilli, güçlü semantik gömme\n",
    "LLM_MODEL_ID = \"meta-llama/Llama-3.1-8B-Instruct\" # çok dilli llm modeli\n",
    "\n",
    "HF_TOKEN = \"\"  #'hf_xxx' şeklinde Hugging Face token buraya koy\n",
    "os.environ['HUGGING_FACE_HUB_TOKEN'] = HF_TOKEN\n",
    "\n",
    "TOP_K = 10 # LLM'e göstereceğimiz aday sayısı (Top-10)\n",
    "TOP3_K = 3 # Rapor için\n",
    "THRESHOLD = 0.50\n",
    "\n",
    "# Embedding modeli\n",
    "print(\"Embedding modeli yükleniyor...\")\n",
    "embed_model = SentenceTransformer(EMBED_MODEL)\n",
    "\n",
    "# Dosyaları yükle\n",
    "df_muhasebe = pd.read_excel(MUHASEBE_PATH)\n",
    "df_naics = pd.read_excel(NAICS_PATH)\n",
    "\n",
    "# =========================\n",
    "# 5) EMBEDDING VE BENZERLİK COSINE SIMILARITY\n",
    "# =========================\n",
    "\n",
    "# Cosine similaritY\n",
    "# - Normdan bağımsız yönsel benzerlik ölçer. Vektör uzunluğundan etkilenmez.\n",
    "# - 0.50 üzeri skorlar (pratikte) çoğu veri kümesinde anlamlı benzerlik sinyali verir.\n",
    "\n",
    "print(\" Embedding vektörleri oluşturuluyor...\")\n",
    "muhasebe_embeddings = embed_model.encode(df_muhasebe[\"Model_Girdisi\"].astype(str).tolist(), show_progress_bar=True)\n",
    "naics_embeddings = embed_model.encode(df_naics[\"Cleaned_Description\"].astype(str).tolist(), show_progress_bar=True)\n",
    "\n",
    "results = []\n",
    "print(\" Eşleştirme işlemi başlatıldı...\")\n",
    "print(\" Eşleştirme işlemi başlatıldı...\")\n",
    "for i, query_vec in enumerate(tqdm(muhasebe_embeddings)):\n",
    "    scores = util.cos_sim(query_vec, naics_embeddings)[0]  # (N,)\n",
    "    n = scores.shape[0]\n",
    "\n",
    "    # Top-10 shortlist\n",
    "    k10 = min(TOP_K, n)\n",
    "    top10 = torch.topk(scores, k=k10)\n",
    "    top10_idx = top10.indices.tolist()\n",
    "    top10_kodlar = [str(df_naics.loc[j, \"NAICS Codes\"]) for j in top10_idx]\n",
    "    top10_kategoriler = [str(df_naics.loc[j, \"NAICS_Title\"]) for j in top10_idx]\n",
    "\n",
    "    # Top-3 (rapor için)\n",
    "    k3 = min(TOP3_K, n)\n",
    "    top3 = torch.topk(scores, k=k3)\n",
    "    top3_kodlar = [str(df_naics.loc[j, \"NAICS Codes\"]) for j in top3.indices.tolist()]\n",
    "    top3_kategoriler = [str(df_naics.loc[j, \"NAICS_Title\"]) for j in top3.indices.tolist()]\n",
    "\n",
    "    # Embedding tabanlı en iyi aday ve skor\n",
    "    best_score = top10.values[0].item()\n",
    "    best_idx = top10.indices[0].item()\n",
    "\n",
    "    # Eşik mantığı:\n",
    "    # - Skor >= THRESHOLD ise \"embedding top-1 yeterince güçlü\" kabul edilir.\n",
    "    # - Aksi halde LLM nihai seçim yapacaktır\n",
    "    if best_score >= THRESHOLD:\n",
    "        matched_code = df_naics.loc[best_idx, \"NAICS Codes\"]\n",
    "        matched_title = df_naics.loc[best_idx, \"NAICS_Title\"]\n",
    "    else:\n",
    "        matched_code = \"Kontrol Et\"\n",
    "        matched_title = \"Kontrol Et\"\n",
    "\n",
    "    results.append({\n",
    "        \"Fatura_No\": df_muhasebe.loc[i, \"Fatura_No\"],\n",
    "        \"Tedarikçi_Orjinal\": df_muhasebe.loc[i, \"Tedarikçi_Orjinal\"],\n",
    "        \"Urunler_Orjinal\": df_muhasebe.loc[i, \"Urunler_Orjinal\"],\n",
    "        \"Atanan_NAICS_Kodu\": matched_code,\n",
    "        \"Eşleşen_NAICS_Kategorisi\": matched_title,\n",
    "        \"Benzerlik_Skoru\": round(best_score, 4),\n",
    "        \"Top_3_Kodlar\": \", \".join(top3_kodlar),\n",
    "        \"Top_3_Kategoriler\": \"; \".join(top3_kategoriler),\n",
    "        \"Top_10_Kodlar\": \", \".join(top10_kodlar),\n",
    "        \"Top_10_Kategoriler\": \"; \".join(top10_kategoriler),\n",
    "    })\n",
    "\n",
    "df_results = pd.DataFrame(results)\n",
    "\n",
    "# =========================\n",
    "# 6) LLM MODELİ YÜKLEME\n",
    "# =========================\n",
    "# LLM, embedding ile belirlediğimiz adaylar arasından bağlama en uygun TEK sınıfı seçer.\n",
    "# 4-bit quantization bellek kazanımı ve hız için\n",
    "print(f\"\\n LLM modeli yükleniyor: {LLM_MODEL_ID}\")\n",
    "quant_config = BitsAndBytesConfig(load_in_4bit=True, bnb_4bit_quant_type=\"nf4\", bnb_4bit_compute_dtype=torch.bfloat16)\n",
    "tokenizer = AutoTokenizer.from_pretrained(LLM_MODEL_ID, token=HF_TOKEN)\n",
    "llm_model = AutoModelForCausalLM.from_pretrained(\n",
    "    LLM_MODEL_ID, token=HF_TOKEN, device_map=\"auto\", quantization_config=quant_config\n",
    ")\n",
    "llm_pipe = pipeline(\"text-generation\", model=llm_model, tokenizer=tokenizer, torch_dtype=torch.bfloat16)\n",
    "\n",
    "def llm_generate_json(messages):\n",
    "    # Chat modellerinde en doğrusu: apply_chat_template\n",
    "    prompt_str = tokenizer.apply_chat_template(messages, tokenize=False, add_generation_prompt=True)\n",
    "    out = llm_pipe(\n",
    "        prompt_str,\n",
    "        max_new_tokens=200,\n",
    "        temperature=0.01,\n",
    "        do_sample=False,\n",
    "        return_full_text=False,\n",
    "    )\n",
    "    return out[0][\"generated_text\"]\n",
    "\n",
    "\n",
    "# =========================\n",
    "# 7) LLM İLE NİHAİ KARAR (HAKEMLİK)\n",
    "# =========================\n",
    "def build_llm_prompt(row):\n",
    "    codes = [c.strip() for c in str(row[\"Top_10_Kodlar\"]).split(\",\") if c.strip()]\n",
    "    cats  = [c.strip() for c in str(row[\"Top_10_Kategoriler\"]).split(\";\") if c.strip()]\n",
    "\n",
    "    options = []\n",
    "    for i in range(len(codes)):\n",
    "        cat = cats[i] if i < len(cats) else \"\"\n",
    "        options.append(f\"[{i+1}] {codes[i]} — {cat}\")\n",
    "    options_str = \"\\n\".join(options)\n",
    "\n",
    "    system_prompt = (\n",
    "        \"You are a meticulous accounting analyst from Turkey. \"\n",
    "        \"Your task is to analyze an invoice's line items and choose the SINGLE most appropriate NAICS category from a given shortlist. \"\n",
    "        \"Focus on the core service, ignoring generic fees. \"\n",
    "        \"You MUST respond ONLY with a valid JSON object containing 'selection_index' (integer 1-10) and 'reasoning' (string, max 2 sentences in Turkish).\"\n",
    "    )\n",
    "\n",
    "    user_prompt = f\"\"\"FATURA BİLGİLERİ:\n",
    "- Fatura No: {row['Fatura_No']}\n",
    "- Tedarikçi: {row['Tedarikçi_Orjinal']}\n",
    "- Kalemler: {row['Urunler_Orjinal']}\n",
    "\n",
    "NAICS KATEGORİ ADAYLARI:\n",
    "{options_str}\n",
    "\n",
    "Cevabını sadece istenen JSON formatında ver.\n",
    "\"\"\"\n",
    "\n",
    "    return [{\"role\": \"system\", \"content\": system_prompt},\n",
    "            {\"role\": \"user\", \"content\": user_prompt}]\n",
    "\n",
    "def try_parse_json(text):\n",
    "    import json, re\n",
    "    try:\n",
    "        m = re.search(r\"\\{[\\s\\S]*\\}\", text)\n",
    "        return json.loads(m.group(0)) if m else None\n",
    "    except Exception:\n",
    "        return None\n",
    "\n",
    "llm_codes, llm_titles, llm_reasonings = [], [], []\n",
    "\n",
    "print(\"\\n LLM ile nihai seçimler yapılıyor...\")\n",
    "for _, row in df_results.iterrows():\n",
    "    try:\n",
    "        messages = build_llm_prompt(row)\n",
    "        raw_text = llm_generate_json(messages)\n",
    "        parsed = try_parse_json(raw_text)\n",
    "\n",
    "        if parsed and \"selection_index\" in parsed:\n",
    "            sel_idx = int(parsed[\"selection_index\"]) - 1\n",
    "            codes = [c.strip() for c in str(row[\"Top_10_Kodlar\"]).split(\",\") if c.strip()]\n",
    "            cats  = [c.strip() for c in str(row[\"Top_10_Kategoriler\"]).split(\";\") if c.strip()]\n",
    "            if 0 <= sel_idx < len(codes):\n",
    "                llm_codes.append(codes[sel_idx])\n",
    "                llm_titles.append(cats[sel_idx] if sel_idx < len(cats) else \"\")\n",
    "                llm_reasonings.append(parsed.get(\"reasoning\", \"\"))\n",
    "                continue\n",
    "\n",
    "        # Parse başarısızsa/indeks geçersizse: embedding top-1’e fallback\n",
    "        llm_codes.append(row[\"Atanan_NAICS_Kodu\"])\n",
    "        llm_titles.append(row[\"Eşleşen_NAICS_Kategorisi\"])\n",
    "        llm_reasonings.append(\"LLM parse/index sorunlu, embedding top-1 ile devam.\")\n",
    "\n",
    "    except Exception as e:\n",
    "        llm_codes.append(row[\"Atanan_NAICS_Kodu\"])\n",
    "        llm_titles.append(row[\"Eşleşen_NAICS_Kategorisi\"])\n",
    "        llm_reasonings.append(f\"LLM error: {str(e)}\")\n",
    "\n",
    "df_results[\"LLM_NAICS_Kodu\"] = llm_codes\n",
    "df_results[\"LLM_NAICS_Kategorisi\"] = llm_titles\n",
    "df_results[\"LLM_Aciklama\"] = llm_reasonings\n",
    "\n",
    "\n",
    "# =========================\n",
    "# 8) KAYDET\n",
    "# =========================\n",
    "df_results.to_excel(OUT_PATH, index=False)\n",
    "print(f\"\\n Tamamlandı. Sonuçlar '{OUT_PATH}' dosyasına kaydedildi.\")\n"
   ]
  }
 ],
 "metadata": {
  "accelerator": "GPU",
  "colab": {
   "authorship_tag": "ABX9TyMw7z64jjBY6YiP4FAZ5QEW",
   "gpuType": "L4",
   "machine_shape": "hm",
   "provenance": []
  },
  "kernelspec": {
   "display_name": "Python 3",
   "name": "python3"
  },
  "language_info": {
   "name": "python"
  }
 },
 "nbformat": 4,
 "nbformat_minor": 0
}
